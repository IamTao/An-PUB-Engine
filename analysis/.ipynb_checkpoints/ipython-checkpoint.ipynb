{
 "cells": [
  {
   "cell_type": "code",
   "execution_count": 5,
   "metadata": {
    "collapsed": true
   },
   "outputs": [],
   "source": [
    "import os\n",
    "import sys\n",
    "sys.path.insert(0, 'util/')\n",
    "\n",
    "import readwrite as rw\n",
    "import pandas as pd"
   ]
  },
  {
   "cell_type": "code",
   "execution_count": 17,
   "metadata": {
    "collapsed": false
   },
   "outputs": [],
   "source": [
    "root = \"data/mp\"\n",
    "in_data_path = os.path.join(root, \"phenotypes_id_aligner.csv\")\n",
    "raw_mp = pd.read_csv(in_data_path)"
   ]
  },
  {
   "cell_type": "code",
   "execution_count": 40,
   "metadata": {
    "collapsed": false
   },
   "outputs": [],
   "source": [
    "useful_mp_df = raw_mp[[\"PhenoID.1\", \"Phenotype\", \"Shown_pheno\", \"Category\"]]\n",
    "useful_mp_df.columns = [\"PhenoID\", \"Phenotype\", \"Shown_pheno\", \"Category\"]\n",
    "lines = useful_mp_df.values.tolist()"
   ]
  },
  {
   "cell_type": "code",
   "execution_count": 41,
   "metadata": {
    "collapsed": false
   },
   "outputs": [],
   "source": [
    "from collections import namedtuple\n",
    "\n",
    "class PhenotypeInfo(object):\n",
    "    def __init__(self, line):\n",
    "        self.id = line[0]\n",
    "        self.phenotype = line[1]\n",
    "        self.shown_pheno = line[2]\n",
    "        self.category = line[3]\n",
    "\n",
    "def build_classes(lines):\n",
    "    return [PhenotypeInfo(line) for line in lines]\n",
    "\n",
    "lines_class = build_classes(lines)"
   ]
  },
  {
   "cell_type": "code",
   "execution_count": 62,
   "metadata": {
    "collapsed": false
   },
   "outputs": [
    {
     "data": {
      "text/plain": [
       "['Drug response',\n",
       " 'Anxiety',\n",
       " 'Musculoskeletal system',\n",
       " 'Blood chemistry',\n",
       " 'Microbiome',\n",
       " 'Immune',\n",
       " 'Other',\n",
       " 'Activity',\n",
       " 'Blood metabolites',\n",
       " 'Morphology',\n",
       " 'Nervous system',\n",
       " 'Metabolism']"
      ]
     },
     "execution_count": 62,
     "metadata": {},
     "output_type": "execute_result"
    }
   ],
   "source": [
    "import re\n",
    "\n",
    "def clean_blank(pheno):\n",
    "    pheno = filter(lambda x: x != \"\", pheno.split(\" \"))\n",
    "    return \" \".join(pheno)\n",
    "\n",
    "\n",
    "def clean_pheno(line):\n",
    "    pheno = line.phenotype\n",
    "    pattern = re.compile(\"(?:\\[.*?\\]|\\(.*?\\))\", re.X)\n",
    "    pheno = re.sub(pattern, \"\", pheno)\n",
    "    pheno = clean_blank(pheno)\n",
    "    line.phenotype = pheno\n",
    "    return line\n",
    "\n",
    "def clean_phenos(lines_class):\n",
    "    return [clean_pheno(line) for line in lines_class]\n",
    "\n",
    "def get_info(lines_class, v):\n",
    "    return list(set([getattr(line, v) for line in lines_class]))\n",
    "\n",
    "\n",
    "def summary_info(lines_class):\n",
    "    categories = get_info(lines_class, \"category\")\n",
    "    shown_phenos = get_info(lines_class, \"shown_pheno\")\n",
    "    return categories, shown_phenos\n",
    "\n",
    "categories, shown_phenos = summary_info(lines_class)\n",
    "categories"
   ]
  },
  {
   "cell_type": "code",
   "execution_count": 66,
   "metadata": {
    "collapsed": false
   },
   "outputs": [],
   "source": [
    "import groupby as gp\n",
    "\n",
    "def group_info(lines_class):\n",
    "    category_ids = [(line.category, line.id) for line in lines_class]\n",
    "    shownpheno_ids = [(line.shown_pheno, line.id) for line in lines_class]\n",
    "\n",
    "    categories_grouped_ids = gp.group_by(category_ids, index=0)\n",
    "    shownpheno_grouped_ids = gp.group_by(shownpheno_ids, index=0)\n",
    "    \n",
    "    return categories_grouped_ids, shownpheno_grouped_ids\n",
    "\n",
    "categories_grouped_ids, shownpheno_grouped_ids = group_info(lines_class)"
   ]
  },
  {
   "cell_type": "code",
   "execution_count": 67,
   "metadata": {
    "collapsed": false
   },
   "outputs": [
    {
     "data": {
      "text/plain": [
       "<itertools.groupby at 0x7f2873baba48>"
      ]
     },
     "execution_count": 67,
     "metadata": {},
     "output_type": "execute_result"
    }
   ],
   "source": [
    "for k, v in categories_grouped_ids:\n",
    "    print k\n",
    "    print v"
   ]
  },
  {
   "cell_type": "code",
   "execution_count": null,
   "metadata": {
    "collapsed": true
   },
   "outputs": [],
   "source": []
  }
 ],
 "metadata": {
  "kernelspec": {
   "display_name": "Python 2",
   "language": "python",
   "name": "python2"
  },
  "language_info": {
   "codemirror_mode": {
    "name": "ipython",
    "version": 2
   },
   "file_extension": ".py",
   "mimetype": "text/x-python",
   "name": "python",
   "nbconvert_exporter": "python",
   "pygments_lexer": "ipython2",
   "version": "2.7.6"
  }
 },
 "nbformat": 4,
 "nbformat_minor": 0
}
